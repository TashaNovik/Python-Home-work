﻿{
 "cells": [
  {
   "cell_type": "code",
   "execution_count": 28,
   "id": "877d6f76-fd34-459d-8530-5f1932826f8e",
   "metadata": {},
   "outputs": [],
   "source": [
    "#Дана переменная, в которой хранится четырёхзначное число (год). Необходимо написать программу, которая выведет, является этот год високосным или обычным.\n",
    "\n",
    "#Пример работы программы:\n",
    "\n",
    "#year = 2020\n",
    "#Результат:\n",
    "#Високосный год\n",
    "\n",
    "#year = 2019\n",
    "#Результат:\n",
    "#Обычный год"
   ]
  },
  {
   "cell_type": "code",
   "execution_count": 29,
   "id": "83476119-433b-42e6-948c-506d2d4a6135",
   "metadata": {},
   "outputs": [
    {
     "name": "stdout",
     "output_type": "stream",
     "text": [
      "Обычный год\n"
     ]
    }
   ],
   "source": [
    "year = 2019\n",
    "if (year % 4 == 0 and year % 100 != 0) or (year % 400 == 0 ):\n",
    "    print('Високосный год')\n",
    "\n",
    "else:\n",
    "    print('Обычный год')"
   ]
  },
  {
   "cell_type": "code",
   "execution_count": null,
   "id": "a320242a-b9f3-4d3d-b86d-ebe4b3a6ed26",
   "metadata": {},
   "outputs": [],
   "source": [
    "#Дана переменная, в которой хранится шестизначное число (номер проездного билета). \n",
    "#Напишите программу, которая будет определять, является ли этот билет счастливым.\n",
    "#Билет считается счастливым, если сумма первых трёх цифр совпадает с суммой последних трёх цифр номера.\n",
    "#Примеры работы программы:\n",
    "\n",
    "#number = 123456\n",
    "#Результат:\n",
    "#Несчастливый билет\n",
    "\n",
    "#number = 123321\n",
    "#Результат:\n",
    "#Счастливый билет"
   ]
  },
  {
   "cell_type": "code",
   "execution_count": 30,
   "id": "33e89797-e117-4df3-a556-aaeca66dace8",
   "metadata": {},
   "outputs": [
    {
     "name": "stdin",
     "output_type": "stream",
     "text": [
      "Введите шестизначный номер билета:  123457\n"
     ]
    },
    {
     "name": "stdout",
     "output_type": "stream",
     "text": [
      "Несчастливый билет\n"
     ]
    }
   ],
   "source": [
    "number = input(\"Введите шестизначный номер билета: \")\n",
    "\n",
    "# Проверяем, что введено ровно 6 цифр\n",
    "if len(number) != 6 or not number.isdigit():\n",
    "  print(\"Ошибка! Введите шестизначный номер.\")\n",
    "else:\n",
    "  # Разделяем номер на две части по 3 цифры\n",
    "  first_part = int(number[0]) + int(number[1]) + int(number[2])\n",
    "  second_part = int(number[3]) + int(number[4]) + int(number[5])\n",
    "\n",
    "  # Сравниваем суммы цифр и выводим результат\n",
    "  if first_part == second_part:\n",
    "    print(\"Счастливый билет\")\n",
    "  else:\n",
    "    print(\"Несчастливый билет\")"
   ]
  }
 ],
 "metadata": {
  "kernelspec": {
   "display_name": "Python 3 (ipykernel)",
   "language": "python",
   "name": "python3"
  },
  "language_info": {
   "codemirror_mode": {
    "name": "ipython",
    "version": 3
   },
   "file_extension": ".py",
   "mimetype": "text/x-python",
   "name": "python",
   "nbconvert_exporter": "python",
   "pygments_lexer": "ipython3",
   "version": "3.12.4"
  }
 },
 "nbformat": 4,
 "nbformat_minor": 5
}
